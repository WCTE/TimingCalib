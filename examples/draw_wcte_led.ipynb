{
 "cells": [
  {
   "cell_type": "code",
   "execution_count": 1,
   "metadata": {},
   "outputs": [],
   "source": [
    "import k3d\n",
    "import numpy as np\n",
    "\n",
    "import sys\n",
    "sys.path.insert(0, \"..\")\n",
    "\n",
    "from TimingCalib.MPMT import MPMT\n",
    "from TimingCalib.PMT import PMT\n",
    "from TimingCalib.LED import LED\n",
    "from TimingCalib.WCD import WCD\n",
    "\n",
    "from scipy.spatial.transform import Rotation as R"
   ]
  },
  {
   "cell_type": "code",
   "execution_count": 2,
   "metadata": {},
   "outputs": [],
   "source": [
    "wcte = WCD(None, 'WCTE', {}, {})"
   ]
  },
  {
   "cell_type": "code",
   "execution_count": 11,
   "metadata": {
    "scrolled": false
   },
   "outputs": [],
   "source": [
    "# Produce a light pulse from an LED for visualization\n",
    "\n",
    "# choose leds to pulse\n",
    "mpmt_emitter = wcte.mpmts[54]\n",
    "led_emitters = [mpmt_emitter.leds[i] for i in range(3)]\n",
    "\n",
    "pattern = 'ring'\n",
    "if pattern == 'ring':\n",
    "    # to produce light in a ring at 15-20 degrees, change the properties of that led\n",
    "    cone_angle = 17.5/180.*np.pi\n",
    "    cone_ring_width = 2.5/180.*np.pi\n",
    "    for led_emitter in led_emitters:\n",
    "        led_emitter.prop_true['cone_angle'] = cone_angle\n",
    "        led_emitter.prop_true['cone_ring_width'] = cone_ring_width\n",
    "if pattern == 'cone':\n",
    "    cone_angle = 20./180.*np.pi\n",
    "    cone_ring_width = 0.\n",
    "    for led_emitter in led_emitters:\n",
    "        led_emitter.prop_true['cone_angle'] = cone_angle\n",
    "        led_emitter.prop_true['cone_ring_width'] = cone_ring_width\n",
    "\n",
    "# produce an event from the light pulse\n",
    "led_volts = 8.\n",
    "wcte_events = []\n",
    "for led_emitter in led_emitters:\n",
    "    wcte_events.append(wcte.pulse_LED(led_emitter, led_volts))"
   ]
  },
  {
   "cell_type": "code",
   "execution_count": 12,
   "metadata": {
    "scrolled": false
   },
   "outputs": [
    {
     "data": {
      "application/vnd.jupyter.widget-view+json": {
       "model_id": "558f753d7d2a4c83bbd0976962ceb9b8",
       "version_major": 2,
       "version_minor": 0
      },
      "text/plain": [
       "Output()"
      ]
     },
     "metadata": {},
     "output_type": "display_data"
    }
   ],
   "source": [
    "# Show all mPMTs and some PMTs+LEDs in the WCTE detector: just the PMTs hit and the emitting LED\n",
    "\n",
    "led_colors = [0xff0000,0x00ff00,0xffff00]\n",
    "color_pmt_hit = 0x00ff00\n",
    "\n",
    "plot = k3d.plot()\n",
    "\n",
    "# mpmt coordinates\n",
    "color_z = 0x0000ff\n",
    "color_x = 0xff0000\n",
    "color_y = 0x00ff00\n",
    "origins = []\n",
    "z_vecs = []\n",
    "x_vecs = []\n",
    "vec_length = 100. # length of x,z vectors to show for each pmt\n",
    "\n",
    "color_mpmt = 0xabb2b9\n",
    "n_point_mpmt = 8\n",
    "indices_mpmt = []\n",
    "for i in range(n_point_mpmt):\n",
    "    indices_mpmt.append([i,(i+1)%n_point_mpmt])\n",
    "    \n",
    "n_point_ft = 20\n",
    "indices_ft = []\n",
    "for i in range(n_point_ft):\n",
    "    indices_ft.append([i,(i+1)%n_point_ft])\n",
    "    \n",
    "# pmt faces:\n",
    "color_pmt = 0xdc7633\n",
    "n_point_pmt = 20\n",
    "indices_pmt = []\n",
    "for i in range(n_point_pmt):\n",
    "    indices_pmt.append([i,(i+1)%n_point_pmt])\n",
    "    \n",
    "# led coordinates\n",
    "led_origins = []\n",
    "led_z_vecs = []\n",
    "led_vec_length = 30. # length of z vectors to show for each led\n",
    "\n",
    "color_led = 0x00ff00\n",
    "    \n",
    "# draw the extent of the mpmt baseplates\n",
    "for i_mpmt,mpmt in enumerate(wcte.mpmts):\n",
    "    \n",
    "    location, direction_x, direction_z = mpmt.get_orientation('design')\n",
    "    # lists to show mPMT coordinate systems\n",
    "    z_vec = list(np.array(direction_z)*vec_length)\n",
    "    x_vec = list(np.array(direction_x)*vec_length)\n",
    "    origins.append(location)\n",
    "    z_vecs.append(z_vec)\n",
    "    x_vecs.append(x_vec)\n",
    "    \n",
    "    baseplate_points = np.array(mpmt.get_xy_points('design'),dtype=np.float32)\n",
    "    plt_baseplate = k3d.lines(baseplate_points, indices_mpmt, indices_type='segment', color=color_mpmt)\n",
    "    plot += plt_baseplate\n",
    "    \n",
    "    feedthrough_points = np.array(mpmt.get_xy_points('design', feature='feedthrough'),dtype=np.float32)\n",
    "    plt_feedthrough = k3d.lines(feedthrough_points, indices_ft, indices_type='segment', color=color_mpmt)\n",
    "    plot += plt_feedthrough\n",
    "    \n",
    "    # show the hit pmts\n",
    "    for i_pmt, pmt in enumerate(mpmt.pmts):\n",
    "        for i_led,wcte_event in enumerate(wcte_events):\n",
    "            if wcte_event.pmt_signals[i_mpmt][i_pmt] is not None:\n",
    "\n",
    "                # k3d expects ndarray of float32 for segments\n",
    "                circle_points = np.array(pmt.get_circle_points(n_point_pmt,'design'),dtype=np.float32)\n",
    "                plt_circle = k3d.lines(circle_points, indices_pmt, indices_type='segment', color=led_colors[i_led])\n",
    "                plot += plt_circle\n",
    "\n",
    "\n",
    "for i_led,led_emitter in enumerate(led_emitters):\n",
    "    location, direction_x, direction_z = led_emitter.get_orientation('design')\n",
    "    z_vec = list(np.array(direction_z)*led_vec_length)\n",
    "    led_origins.append(location)\n",
    "    led_z_vecs.append(z_vec)\n",
    "\n",
    "#plot led locations and axis (different colors)\n",
    "for i_led,led_emitter in enumerate(led_emitters):    \n",
    "    led_locations = np.array([led_origins[i_led]], dtype=np.float32)    \n",
    "    plt_leds = k3d.points(positions=led_locations,\n",
    "                        point_size=8.,\n",
    "                        shader='3d',\n",
    "                        color=led_colors[i_led])\n",
    "    plot += plt_leds\n",
    "\n",
    "    plt_led_z_vecs = k3d.vectors(origins=[led_origins[i_led]], vectors=[led_z_vecs[i_led]], color=color_z, head_size=50.)\n",
    "    plot += plt_led_z_vecs\n",
    "\n",
    "plot.display()"
   ]
  },
  {
   "cell_type": "code",
   "execution_count": null,
   "metadata": {},
   "outputs": [],
   "source": []
  }
 ],
 "metadata": {
  "kernelspec": {
   "display_name": "wcte",
   "language": "python",
   "name": "wcte"
  },
  "language_info": {
   "codemirror_mode": {
    "name": "ipython",
    "version": 3
   },
   "file_extension": ".py",
   "mimetype": "text/x-python",
   "name": "python",
   "nbconvert_exporter": "python",
   "pygments_lexer": "ipython3",
   "version": "3.9.8"
  },
  "varInspector": {
   "cols": {
    "lenName": 16,
    "lenType": 16,
    "lenVar": 40
   },
   "kernels_config": {
    "python": {
     "delete_cmd_postfix": "",
     "delete_cmd_prefix": "del ",
     "library": "var_list.py",
     "varRefreshCmd": "print(var_dic_list())"
    },
    "r": {
     "delete_cmd_postfix": ") ",
     "delete_cmd_prefix": "rm(",
     "library": "var_list.r",
     "varRefreshCmd": "cat(var_dic_list()) "
    }
   },
   "types_to_exclude": [
    "module",
    "function",
    "builtin_function_or_method",
    "instance",
    "_Feature"
   ],
   "window_display": false
  }
 },
 "nbformat": 4,
 "nbformat_minor": 4
}
