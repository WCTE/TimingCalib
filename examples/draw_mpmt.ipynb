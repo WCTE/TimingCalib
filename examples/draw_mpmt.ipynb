{
 "cells": [
  {
   "cell_type": "code",
   "execution_count": 1,
   "metadata": {
    "collapsed": true,
    "ExecuteTime": {
     "start_time": "2023-06-21T11:10:44.695749Z",
     "end_time": "2023-06-21T11:10:46.344342Z"
    }
   },
   "outputs": [],
   "source": [
    "import k3d\n",
    "import numpy as np\n",
    "\n",
    "from TimingCalib.MPMT import MPMT\n",
    "from TimingCalib.PMT import PMT\n",
    "from TimingCalib.LED import LED"
   ]
  },
  {
   "cell_type": "code",
   "execution_count": 2,
   "outputs": [],
   "source": [
    "my_mpmt = MPMT(None, 'M2', {}, {})\n",
    "\n",
    "origins = []\n",
    "vectors = []\n",
    "\n",
    "for pmt in my_mpmt.pmts:\n",
    "    location, direction = pmt.get_z_orientation('true')\n",
    "\n",
    "    lv = [direction[i]*100 for i in range(len(direction))]\n",
    "    origins.append(location)\n",
    "    vectors.append(lv)\n"
   ],
   "metadata": {
    "collapsed": false,
    "ExecuteTime": {
     "start_time": "2023-06-21T11:11:17.839527Z",
     "end_time": "2023-06-21T11:11:17.853490Z"
    }
   }
  },
  {
   "cell_type": "code",
   "execution_count": 3,
   "outputs": [
    {
     "data": {
      "text/plain": "Output()",
      "application/vnd.jupyter.widget-view+json": {
       "version_major": 2,
       "version_minor": 0,
       "model_id": "835626aebc59499d9fbc3510183715bd"
      }
     },
     "metadata": {},
     "output_type": "display_data"
    }
   ],
   "source": [
    "plt_vectors = k3d.vectors(origins=origins, vectors=vectors)\n",
    "\n",
    "plot = k3d.plot()\n",
    "plot += plt_vectors\n",
    "plot.display()"
   ],
   "metadata": {
    "collapsed": false,
    "ExecuteTime": {
     "start_time": "2023-06-21T11:11:49.521523Z",
     "end_time": "2023-06-21T11:11:49.562605Z"
    }
   }
  },
  {
   "cell_type": "code",
   "execution_count": null,
   "outputs": [],
   "source": [],
   "metadata": {
    "collapsed": false
   }
  }
 ],
 "metadata": {
  "kernelspec": {
   "display_name": "Python 3",
   "language": "python",
   "name": "python3"
  },
  "language_info": {
   "codemirror_mode": {
    "name": "ipython",
    "version": 2
   },
   "file_extension": ".py",
   "mimetype": "text/x-python",
   "name": "python",
   "nbconvert_exporter": "python",
   "pygments_lexer": "ipython2",
   "version": "2.7.6"
  }
 },
 "nbformat": 4,
 "nbformat_minor": 0
}
