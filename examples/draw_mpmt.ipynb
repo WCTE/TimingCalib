{
 "cells": [
  {
   "cell_type": "code",
   "execution_count": 1,
   "metadata": {},
   "outputs": [],
   "source": [
    "import k3d\n",
    "import numpy as np\n",
    "\n",
    "import sys\n",
    "sys.path.insert(0, \"..\")\n",
    "\n",
    "from TimingCalib.MPMT import MPMT\n",
    "from TimingCalib.PMT import PMT\n",
    "from TimingCalib.LED import LED\n",
    "\n",
    "from scipy.spatial.transform import Rotation as R"
   ]
  },
  {
   "cell_type": "code",
   "execution_count": 8,
   "metadata": {},
   "outputs": [
    {
     "data": {
      "application/vnd.jupyter.widget-view+json": {
       "model_id": "a1ea85e45326433e960aaece49eb7f3b",
       "version_major": 2,
       "version_minor": 0
      },
      "text/plain": [
       "Output()"
      ]
     },
     "metadata": {},
     "output_type": "display_data"
    }
   ],
   "source": [
    "# Draw the components of a single mPMT using k3d\n",
    "\n",
    "plot = k3d.plot()\n",
    "\n",
    "placement = {'loc':[0.,0.,0.], 'loc_sig':[0.001,0.001,0.001], 'rot_axes':'Z', 'rot_angles':0., 'rot_angles_sig':[1E-6]}\n",
    "\n",
    "# make a standard domed mPMT\n",
    "my_mpmt = MPMT(None, 'M2', placement , placement)\n",
    "\n",
    "# pmt coordinates\n",
    "color_z = 0x0000ff\n",
    "color_x = 0xff0000\n",
    "origins = []\n",
    "z_vecs = []\n",
    "x_vecs = []\n",
    "vec_length = 30. # length of x,z vectors to show for each pmt\n",
    "\n",
    "# pmt faces:\n",
    "color_pmt = 0xdc7633\n",
    "n_point_pmt = 20\n",
    "indices_pmt = []\n",
    "for i in range(n_point_pmt):\n",
    "    indices_pmt.append([i,(i+1)%n_point_pmt])\n",
    "\n",
    "# mpmt\n",
    "color_mpmt = 0xabb2b9\n",
    "n_point_mpmt = 100\n",
    "indices_mpmt = []\n",
    "for i in range(n_point_mpmt):\n",
    "    indices_mpmt.append([i,(i+1)%n_point_mpmt])\n",
    "\n",
    "# draw the extent of an mpmt\n",
    "circle_points = np.array(my_mpmt.get_circle_points(n_point_mpmt,'design'),dtype=np.float32)\n",
    "plt_circle = k3d.lines(circle_points, indices_mpmt, indices_type='segment', color=color_mpmt)\n",
    "plot += plt_circle\n",
    "\n",
    "for i_pmt, pmt in enumerate(my_mpmt.pmts):\n",
    "    location, direction_x, direction_z = pmt.get_orientation('design')\n",
    "\n",
    "    # lists to show PMT coordinate systems\n",
    "    z_vec = list(np.array(direction_z)*vec_length)\n",
    "    x_vec = list(np.array(direction_x)*vec_length)\n",
    "    origins.append(location)\n",
    "    z_vecs.append(z_vec)\n",
    "    x_vecs.append(x_vec)\n",
    "\n",
    "    # k3d expects ndarray of float32 for segments\n",
    "    circle_points = np.array(pmt.get_circle_points(n_point_pmt,'design'),dtype=np.float32)\n",
    "    plt_circle = k3d.lines(circle_points, indices_pmt, indices_type='segment', color=color_pmt)\n",
    "    plot += plt_circle\n",
    "    # k3d complains about the following not being float32!\n",
    "    plt_text = k3d.text(str(i_pmt), position=location, reference_point='cc', size=1., label_box=False, color=color_pmt)\n",
    "    plot += plt_text\n",
    "\n",
    "# plot all pmt coordinate axes\n",
    "plt_z_vecs = k3d.vectors(origins=origins, vectors=z_vecs, color=color_z, head_size=50.)\n",
    "plot += plt_z_vecs\n",
    "plt_x_vecs = k3d.vectors(origins=origins, vectors=x_vecs, color=color_x, head_size=50.)\n",
    "plot += plt_x_vecs\n",
    "\n",
    "plot.display()"
   ]
  },
  {
   "cell_type": "code",
   "execution_count": null,
   "metadata": {},
   "outputs": [],
   "source": [
    "circle_points"
   ]
  },
  {
   "cell_type": "code",
   "execution_count": null,
   "metadata": {},
   "outputs": [],
   "source": [
    "list(np.add([0.,1.],[2.,3.]))"
   ]
  },
  {
   "cell_type": "code",
   "execution_count": null,
   "metadata": {},
   "outputs": [],
   "source": []
  }
 ],
 "metadata": {
  "kernelspec": {
   "display_name": "wcte",
   "language": "python",
   "name": "wcte"
  },
  "language_info": {
   "codemirror_mode": {
    "name": "ipython",
    "version": 3
   },
   "file_extension": ".py",
   "mimetype": "text/x-python",
   "name": "python",
   "nbconvert_exporter": "python",
   "pygments_lexer": "ipython3",
   "version": "3.9.8"
  },
  "varInspector": {
   "cols": {
    "lenName": 16,
    "lenType": 16,
    "lenVar": 40
   },
   "kernels_config": {
    "python": {
     "delete_cmd_postfix": "",
     "delete_cmd_prefix": "del ",
     "library": "var_list.py",
     "varRefreshCmd": "print(var_dic_list())"
    },
    "r": {
     "delete_cmd_postfix": ") ",
     "delete_cmd_prefix": "rm(",
     "library": "var_list.r",
     "varRefreshCmd": "cat(var_dic_list()) "
    }
   },
   "types_to_exclude": [
    "module",
    "function",
    "builtin_function_or_method",
    "instance",
    "_Feature"
   ],
   "window_display": false
  }
 },
 "nbformat": 4,
 "nbformat_minor": 4
}
