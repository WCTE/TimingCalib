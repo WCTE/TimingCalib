{
 "cells": [
  {
   "cell_type": "code",
   "execution_count": 1,
   "metadata": {
    "collapsed": true,
    "ExecuteTime": {
     "start_time": "2023-06-21T11:10:44.695749Z",
     "end_time": "2023-06-21T11:10:46.344342Z"
    }
   },
   "outputs": [],
   "source": [
    "import k3d\n",
    "import numpy as np\n",
    "\n",
    "from TimingCalib.MPMT import MPMT\n",
    "from TimingCalib.PMT import PMT\n",
    "from TimingCalib.LED import LED\n",
    "\n",
    "from scipy.spatial.transform import Rotation as R"
   ]
  },
  {
   "cell_type": "code",
   "execution_count": 2,
   "outputs": [],
   "source": [
    "my_mpmt = MPMT(None, 'M2', {}, {})\n",
    "\n",
    "origins = []\n",
    "vectors = []\n",
    "n_mp = 20\n",
    "meshes = []\n",
    "radius = my_mpmt.pmts[0].prop_design['size']/2.\n",
    "\n",
    "for i_pmt, pmt in enumerate(my_mpmt.pmts):\n",
    "    location, direction = pmt.get_z_orientation('true')\n",
    "\n",
    "    lv = [direction[i]*100 for i in range(len(direction))]\n",
    "    origins.append(location)\n",
    "    vectors.append(lv)\n",
    "\n",
    "    mesh = []\n",
    "    if i_pmt > -1:\n",
    "        # draw the surface of the pmt with n_mp points\n",
    "        # find a direction perpendicular to normal p = (px, 0., 1.)\n",
    "        px = -direction[2]/(direction[0]+1.E-3)\n",
    "        # change magnitude to PMT radius\n",
    "        scale = radius/np.sqrt(1. + px**2)\n",
    "        perp = (px*scale,0.,scale)\n",
    "\n",
    "        rot = R.from_rotvec(2.*np.pi/n_mp * np.array(direction))\n",
    "        for i in range(n_mp):\n",
    "            mesh.append(np.add(location,perp))\n",
    "            perp = rot.apply(perp)\n",
    "        meshes.append(np.array(mesh,dtype=np.float32))\n"
   ],
   "metadata": {
    "collapsed": false,
    "ExecuteTime": {
     "start_time": "2023-06-21T11:11:17.839527Z",
     "end_time": "2023-06-21T11:11:17.853490Z"
    }
   }
  },
  {
   "cell_type": "code",
   "execution_count": null,
   "outputs": [],
   "source": [
    "# plot the normal vectors\n",
    "\n",
    "plt_vectors = k3d.vectors(origins=origins, vectors=vectors)\n",
    "\n",
    "plot = k3d.plot()\n",
    "plot += plt_vectors\n",
    "plot.display()"
   ],
   "metadata": {
    "collapsed": false,
    "ExecuteTime": {
     "start_time": "2023-06-21T11:11:49.521523Z",
     "end_time": "2023-06-21T11:11:49.562605Z"
    }
   }
  },
  {
   "cell_type": "code",
   "execution_count": null,
   "outputs": [],
   "source": [
    "# show the PMT faces with numbering\n",
    "\n",
    "indices = []\n",
    "for i in range(n_mp):\n",
    "    indices.append([i,(i+1)%n_mp])\n",
    "\n",
    "\n",
    "for i_mesh,mesh in enumerate(meshes):\n",
    "    plt_mesh = k3d.lines(mesh, indices, indices_type='segment')\n",
    "    plot += plt_mesh\n",
    "    plt_text = k3d.text(str(i_mesh), position=origins[i_mesh], reference_point='cc', size=1., label_box=False)\n",
    "    plot += plt_text\n",
    "\n",
    "plot.display()"
   ],
   "metadata": {
    "collapsed": false
   }
  }
 ],
 "metadata": {
  "kernelspec": {
   "display_name": "Python 3",
   "language": "python",
   "name": "python3"
  },
  "language_info": {
   "codemirror_mode": {
    "name": "ipython",
    "version": 2
   },
   "file_extension": ".py",
   "mimetype": "text/x-python",
   "name": "python",
   "nbconvert_exporter": "python",
   "pygments_lexer": "ipython2",
   "version": "2.7.6"
  }
 },
 "nbformat": 4,
 "nbformat_minor": 0
}
