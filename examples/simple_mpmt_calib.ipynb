{
 "cells": [
  {
   "cell_type": "markdown",
   "metadata": {},
   "source": [
    "# Example of a simple setup of a few mPMTs to determine timing offsets \n",
    "\n",
    " * This is intended to be done early in the testing of mPMTs: a valuable consistency check\n",
    "\n"
   ]
  },
  {
   "cell_type": "code",
   "execution_count": 1,
   "metadata": {},
   "outputs": [],
   "source": [
    "import k3d\n",
    "import numpy as np\n",
    "import matplotlib.pyplot as plt\n",
    "\n",
    "import sys\n",
    "sys.path.insert(0, \"..\")\n",
    "\n",
    "from TimingCalib.WCD_calibrator import WCD_calibrator\n",
    "from TimingCalib.WCD_multilaterator import WCD_multilaterator\n",
    "from TimingCalib.WCD import WCD\n",
    "from TimingCalib.MPMT import MPMT\n",
    "from TimingCalib.PMT import PMT\n",
    "from TimingCalib.LED import LED"
   ]
  },
  {
   "cell_type": "code",
   "execution_count": 2,
   "metadata": {},
   "outputs": [],
   "source": [
    "# create a new setup with some mPMTs and optionally a beacon\n",
    "# - wcd_kind: name of the setup\n",
    "# - mpmt: list of mpmt dictionaries\n",
    "# - beacon_kind: name of the beacon device\n",
    "# - beacon: beacon dictionary\n",
    "# - beacon_delay_sig: std dev of beacon delay\n",
    "\n",
    "def define_simple_setup(wcd_kind, mpmts, beacon_kind=\"\", beacon=None, beacon_delay_sig = 1.):\n",
    "    WCD.prop_mean[wcd_kind] = WCD.def_prop_mean.copy()\n",
    "    WCD.prop_scale[wcd_kind] = WCD.def_prop_scale.copy()\n",
    "    WCD.prop_var[wcd_kind] = WCD.def_prop_var.copy()\n",
    "    \n",
    "    WCD.mpmts_design[wcd_kind] = mpmts\n",
    "    \n",
    "    if beacon_kind != \"\":\n",
    "        LED.prop_mean[beacon_kind] = LED.def_prop_mean.copy()\n",
    "        LED.prop_scale[beacon_kind] = LED.def_prop_scale.copy()\n",
    "        LED.prop_var[beacon_kind] = LED.def_prop_var.copy()\n",
    "\n",
    "        LED.prop_scale[beacon_kind]['delay'] = delay_sig\n",
    "        \n",
    "        WCD.calibs_design[wcd_kind] = [beacon]"
   ]
  },
  {
   "cell_type": "code",
   "execution_count": 3,
   "metadata": {},
   "outputs": [],
   "source": [
    "# setup 3 mPMTs in a room: floor is x-y plane.\n",
    "\n",
    "def get_wcd(led_cone_angle):\n",
    "\n",
    "    wcd_kind = 'test_3'\n",
    "    mpmt_kind = 'M2' # dome style mPMT\n",
    "\n",
    "    radius = 2000. # mm radius of circle of mPMT centres\n",
    "    phi = np.pi/6 # phi angle of first mPMT\n",
    "    loc_sig = [2., 2., 2.] # mm std dev\n",
    "    rot_axes = 'yz' # rotation axes of mPMT\n",
    "    rot_sig = [0.01, 0.01] # rad std dev\n",
    "\n",
    "    mpmts = []\n",
    "    for i in range(3):\n",
    "        location = [radius*np.cos(phi), radius*np.sin(phi), 0.]\n",
    "        rot_angles = [np.pi/2., phi - np.pi]\n",
    "        mpmts.append({\n",
    "            'kind': mpmt_kind,\n",
    "            'loc': location,\n",
    "            'loc_sig': loc_sig,\n",
    "            'rot_axes': rot_axes,\n",
    "            'rot_angles': rot_angles,\n",
    "            'rot_angles_sig':rot_sig})    \n",
    "        phi += 2.*np.pi/3.\n",
    "\n",
    "    # define the setup of the mpmts\n",
    "    define_simple_setup(wcd_kind, mpmts)\n",
    "\n",
    "    # set the cone angle of the LEDs (default is 1 rad)\n",
    "    LED.prop_mean['L1']['cone_angle'] = led_cone_angle\n",
    "\n",
    "    # create the detector: creates true orientations and properties of all devices\n",
    "    wcd = WCD(None, wcd_kind, {}, {})\n",
    "\n",
    "    # remove all but first of the LEDs\n",
    "    for mpmt in wcd.mpmts:\n",
    "        led = mpmt.leds[0]\n",
    "        mpmt.leds = [led]\n",
    "\n",
    "    return wcd"
   ]
  },
  {
   "cell_type": "code",
   "execution_count": 4,
   "metadata": {
    "scrolled": false
   },
   "outputs": [
    {
     "data": {
      "application/vnd.jupyter.widget-view+json": {
       "model_id": "d634993272284032850d047f56b80a3d",
       "version_major": 2,
       "version_minor": 0
      },
      "text/plain": [
       "Output()"
      ]
     },
     "metadata": {},
     "output_type": "display_data"
    }
   ],
   "source": [
    "# Show all mPMTs, PMTs, LEDs in the setup\n",
    "\n",
    "wcd = get_wcd(1.0)\n",
    "\n",
    "plot = k3d.plot()\n",
    "\n",
    "# mpmt coordinates\n",
    "color_z = 0x0000ff\n",
    "color_x = 0xff0000\n",
    "origins = []\n",
    "z_vecs = []\n",
    "x_vecs = []\n",
    "vec_length = 100. # length of x,z vectors to show for each pmt\n",
    "\n",
    "color_mpmt = 0xabb2b9\n",
    "n_point_mpmt = 8\n",
    "indices_mpmt = []\n",
    "for i in range(n_point_mpmt):\n",
    "    indices_mpmt.append([i,(i+1)%n_point_mpmt])\n",
    "    \n",
    "n_point_ft = 20\n",
    "indices_ft = []\n",
    "for i in range(n_point_ft):\n",
    "    indices_ft.append([i,(i+1)%n_point_ft])\n",
    "    \n",
    "# pmt faces:\n",
    "color_pmt = 0xdc7633\n",
    "n_point_pmt = 20\n",
    "indices_pmt = []\n",
    "for i in range(n_point_pmt):\n",
    "    indices_pmt.append([i,(i+1)%n_point_pmt])\n",
    "    \n",
    "# led coordinates\n",
    "led_origins = []\n",
    "led_z_vecs = []\n",
    "led_vec_length = 30. # length of z vectors to show for each led\n",
    "\n",
    "color_led = 0x00ff00\n",
    "    \n",
    "# draw the extent of the mpmt baseplates\n",
    "for i_mpmt,mpmt in enumerate(wcd.mpmts):\n",
    "    \n",
    "    location, direction_x, direction_z = mpmt.get_orientation('design')\n",
    "    # lists to show mPMT coordinate systems\n",
    "    z_vec = list(np.array(direction_z)*vec_length)\n",
    "    x_vec = list(np.array(direction_x)*vec_length)\n",
    "    origins.append(location)\n",
    "    z_vecs.append(z_vec)\n",
    "    x_vecs.append(x_vec)\n",
    "    \n",
    "    baseplate_points = np.array(mpmt.get_xy_points('design'),dtype=np.float32)\n",
    "    plt_baseplate = k3d.lines(baseplate_points, indices_mpmt, indices_type='segment', color=color_mpmt)\n",
    "    plot += plt_baseplate\n",
    "    \n",
    "    feedthrough_points = np.array(mpmt.get_xy_points('design', feature='feedthrough'),dtype=np.float32)\n",
    "    plt_feedthrough = k3d.lines(feedthrough_points, indices_ft, indices_type='segment', color=color_mpmt)\n",
    "    plot += plt_feedthrough\n",
    "\n",
    "    # k3d complains about the following not being float32!\n",
    "    plt_text = k3d.text(str(i_mpmt), position=location, reference_point='cc', size=1., label_box=False, color=color_mpmt)\n",
    "    plot += plt_text\n",
    "    \n",
    "    for i_pmt, pmt in enumerate(mpmt.pmts):\n",
    "\n",
    "        # k3d expects ndarray of float32 for segments\n",
    "        circle_points = np.array(pmt.get_circle_points(n_point_pmt,'design'),dtype=np.float32)\n",
    "        plt_circle = k3d.lines(circle_points, indices_pmt, indices_type='segment', color=color_pmt)\n",
    "        plot += plt_circle\n",
    "\n",
    "    for i_led, led in enumerate(mpmt.leds):\n",
    "        location, direction_x, direction_z = led.get_orientation('design')\n",
    "        z_vec = list(np.array(direction_z)*led_vec_length)\n",
    "        led_origins.append(location)\n",
    "        led_z_vecs.append(z_vec)\n",
    "    \n",
    "    \n",
    "#plt_z_vecs = k3d.vectors(origins=origins, vectors=z_vecs, color=color_z, head_size=250.)\n",
    "#plot += plt_z_vecs\n",
    "\n",
    "#plot led locations and axis\n",
    "led_locations = np.array(led_origins, dtype=np.float32)    \n",
    "plt_leds = k3d.points(positions=led_locations,\n",
    "                        point_size=8.,\n",
    "                        shader='3d',\n",
    "                        color=color_led)\n",
    "plot += plt_leds\n",
    "\n",
    "plt_led_z_vecs = k3d.vectors(origins=led_origins, vectors=led_z_vecs, color=color_z, head_size=50.)\n",
    "plot += plt_led_z_vecs\n",
    "\n",
    "plot.display()"
   ]
  },
  {
   "cell_type": "code",
   "execution_count": 5,
   "metadata": {},
   "outputs": [],
   "source": [
    "def calibrate(wcd, print_results):\n",
    "    \"\"\" Run calibration and optionally print results\"\"\"\n",
    "    my_wcd = wcd\n",
    "    my_wcd_calibrator = WCD_calibrator(my_wcd)\n",
    "    chi2, n_dof, pars, mean_sigma_t, n_term_t = my_wcd_calibrator.calibrate()\n",
    "\n",
    "    if print_results:\n",
    "        n_mpmt = len(my_wcd.mpmts)\n",
    "        m_pmt = len(my_wcd.mpmts[0].pmts)\n",
    "        frac_signal = 1. * n_term_t / (n_mpmt * n_mpmt * m_pmt)\n",
    "        print('chi2 = {0:.1f}, n_dof = {1:d}, n_pars = {2:d}, '.\\\n",
    "              format(chi2, n_dof, len(pars)) + \\\n",
    "              'mean_s_t = {0:.3f}, frac_signal = {1:.3f}, n_t = {2:d}'.\\\n",
    "              format(mean_sigma_t, frac_signal, n_term_t))\n",
    "        \n",
    "        print('MPMT delays:')\n",
    "        mpmt = my_wcd.mpmts[0]\n",
    "        print('prior mean = {0:.2f}  prior half-range = {1:.2f}' \\\n",
    "              .format(MPMT.prop_mean[mpmt.kind]['clock_offset'], \\\n",
    "                      MPMT.prop_scale[mpmt.kind]['clock_offset']))\n",
    "        diff = []\n",
    "        for i in range(1,n_mpmt):\n",
    "            diff.append(pars[n_mpmt+i-1] - my_wcd.mpmts[i].prop_true['clock_offset'])\n",
    "        print('Residuals mean = {0:.2f}  Residual sig = {1:.2f}' \\\n",
    "              .format(np.mean(diff), np.std(diff)))\n",
    "        \n",
    "        print('LED delays:')\n",
    "        led = my_wcd.mpmts[0].leds[0]\n",
    "        print('prior mean = {0:.2f}  prior sig = {1:.2f}' \\\n",
    "              .format(LED.prop_mean[led.kind]['delay'], LED.prop_scale[led.kind]['delay']))\n",
    "        diff = []\n",
    "        for i in range(n_mpmt):\n",
    "            diff.append(pars[i] - my_wcd.mpmts[i].leds[0].prop_true['delay'])\n",
    "        print('Residuals mean = {0:.2f}  Residual sig = {1:.2f}' \\\n",
    "              .format(np.mean(diff), np.std(diff)))\n",
    "            \n",
    "        print('PMT delays:')\n",
    "        pmt = my_wcd.mpmts[0].pmts[0]\n",
    "        print('prior mean = {0:.2f}  prior sig = {1:.2f}' \\\n",
    "              .format(PMT.prop_mean[pmt.kind]['delay'], PMT.prop_scale[pmt.kind]['delay']))\n",
    "        diff = []\n",
    "        for j in range(n_mpmt):\n",
    "            for k in range(m_pmt):\n",
    "                p = j*m_pmt + k\n",
    "                diff.append(pars[n_mpmt*2-1+p] - my_wcd.mpmts[j].pmts[k].prop_true['delay'])\n",
    "        print('Residuals mean = {0:.2f}  Residual sig = {1:.2f}' \\\n",
    "              .format(np.mean(diff), np.std(diff)))\n",
    "            \n",
    "    return chi2, n_dof, pars, mean_sigma_t, n_term_t"
   ]
  },
  {
   "cell_type": "code",
   "execution_count": 7,
   "metadata": {},
   "outputs": [
    {
     "name": "stdout",
     "output_type": "stream",
     "text": [
      "chi2 = 96.8, n_dof = 91, n_pars = 62, mean_s_t = 0.081, frac_signal = 0.544, n_t = 93\n",
      "MPMT delays:\n",
      "prior mean = 0.00  prior half-range = 100.00\n",
      "Residuals mean = 0.33  Residual sig = 0.15\n",
      "LED delays:\n",
      "prior mean = 4.00  prior sig = 1.00\n",
      "Residuals mean = -0.07  Residual sig = 0.22\n",
      "PMT delays:\n",
      "prior mean = 4.00  prior sig = 0.50\n",
      "Residuals mean = 0.08  Residual sig = 0.19\n"
     ]
    }
   ],
   "source": [
    "wcd = get_wcd(1.0) # cone angle 1.0 rad = 57 degrees\n",
    "chi2, n_dof, pars, mean_sigma_t, n_term_t = calibrate(wcd, True)"
   ]
  },
  {
   "cell_type": "code",
   "execution_count": 6,
   "metadata": {},
   "outputs": [
    {
     "name": "stdout",
     "output_type": "stream",
     "text": [
      "chi2 = 26.2, n_dof = 43, n_pars = 62, mean_s_t = 0.079, frac_signal = 0.263, n_t = 45\n",
      "MPMT delays:\n",
      "prior mean = 0.00  prior half-range = 100.00\n",
      "Residuals mean = -0.12  Residual sig = 0.56\n",
      "LED delays:\n",
      "prior mean = 4.00  prior sig = 1.00\n",
      "Residuals mean = 0.05  Residual sig = 0.86\n",
      "PMT delays:\n",
      "prior mean = 4.00  prior sig = 0.50\n",
      "Residuals mean = -0.05  Residual sig = 0.29\n"
     ]
    }
   ],
   "source": [
    "wcd = get_wcd(0.6) # cone angle 0.6 rad = 34 degrees\n",
    "chi2, n_dof, pars, mean_sigma_t, n_term_t = calibrate(wcd, True)  "
   ]
  },
  {
   "cell_type": "code",
   "execution_count": null,
   "metadata": {},
   "outputs": [],
   "source": []
  }
 ],
 "metadata": {
  "kernelspec": {
   "display_name": "wcte",
   "language": "python",
   "name": "wcte"
  },
  "language_info": {
   "codemirror_mode": {
    "name": "ipython",
    "version": 3
   },
   "file_extension": ".py",
   "mimetype": "text/x-python",
   "name": "python",
   "nbconvert_exporter": "python",
   "pygments_lexer": "ipython3",
   "version": "3.9.8"
  },
  "varInspector": {
   "cols": {
    "lenName": 16,
    "lenType": 16,
    "lenVar": 40
   },
   "kernels_config": {
    "python": {
     "delete_cmd_postfix": "",
     "delete_cmd_prefix": "del ",
     "library": "var_list.py",
     "varRefreshCmd": "print(var_dic_list())"
    },
    "r": {
     "delete_cmd_postfix": ") ",
     "delete_cmd_prefix": "rm(",
     "library": "var_list.r",
     "varRefreshCmd": "cat(var_dic_list()) "
    }
   },
   "types_to_exclude": [
    "module",
    "function",
    "builtin_function_or_method",
    "instance",
    "_Feature"
   ],
   "window_display": false
  }
 },
 "nbformat": 4,
 "nbformat_minor": 4
}
